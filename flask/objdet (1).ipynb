{
  "cells": [
    {
      "cell_type": "code",
      "execution_count": null,
      "metadata": {
        "id": "3HE7qGBW_AhD"
      },
      "outputs": [],
      "source": [
        "%pip install ultralytics\n",
        "%pip install pyyaml"
      ]
    },
    {
      "cell_type": "code",
      "execution_count": 2,
      "metadata": {
        "id": "D2x1u_8q_PGg"
      },
      "outputs": [],
      "source": [
        "from ultralytics import YOLO\n",
        "import yaml\n",
        "import cv2\n"
      ]
    },
    {
      "cell_type": "code",
      "execution_count": null,
      "metadata": {
        "id": "dgkakYWKDjrb"
      },
      "outputs": [],
      "source": [
        "from ultralytics import YOLO\n",
        "\n",
        "# Create a new YOLO model from scratch\n",
        "model = YOLO('yolov8n.yaml')\n",
        "\n",
        "# Load a pretrained YOLO model (recommended for training)\n",
        "model = YOLO('yolov8n.pt')\n",
        "\n",
        "# Train the model using the 'coco128.yaml' dataset for 3 epochs\n",
        "results = model.train(data='coco128.yaml', epochs=3)\n",
        "\n",
        "# Evaluate the model's performance on the validation set\n",
        "results = model.val()\n",
        "\n",
        "# Perform object detection on an image using the model\n",
        "results = model('https://ultralytics.com/images/bus.jpg')\n",
        "\n",
        "# Export the model to ONNX format\n",
        "success = model.export(format='onnx')\n"
      ]
    },
    {
      "cell_type": "code",
      "execution_count": null,
      "metadata": {
        "id": "10nL5Q86WNvI"
      },
      "outputs": [],
      "source": [
        "# model.predict(\"https://ultralytics.com/images/bus.jpg\",save = True , save_txt = True)\n"
      ]
    },
    {
      "cell_type": "code",
      "execution_count": null,
      "metadata": {
        "id": "KbLqJ3NiAZNr"
      },
      "outputs": [],
      "source": [
        "# model = YOLO(\"yolov8n.pt\")"
      ]
    },
    {
      "cell_type": "code",
      "execution_count": null,
      "metadata": {
        "id": "ZiNflO8qAZpD"
      },
      "outputs": [],
      "source": [
        "# model.predict(\"/content/4.JPG\",save = True , save_txt = True)"
      ]
    },
    {
      "cell_type": "markdown",
      "metadata": {
        "id": "egXueBWX94Oi"
      },
      "source": [
        "# New Section"
      ]
    },
    {
      "cell_type": "code",
      "execution_count": null,
      "metadata": {
        "id": "pCov-XJ4YSZD"
      },
      "outputs": [],
      "source": []
    }
  ],
  "metadata": {
    "accelerator": "GPU",
    "colab": {
      "provenance": []
    },
    "gpuClass": "standard",
    "kernelspec": {
      "display_name": "Python 3",
      "name": "python3"
    },
    "language_info": {
      "codemirror_mode": {
        "name": "ipython",
        "version": 3
      },
      "file_extension": ".py",
      "mimetype": "text/x-python",
      "name": "python",
      "nbconvert_exporter": "python",
      "pygments_lexer": "ipython3",
      "version": "3.9.6"
    }
  },
  "nbformat": 4,
  "nbformat_minor": 0
}
